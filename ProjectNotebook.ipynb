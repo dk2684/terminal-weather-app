{
 "cells": [
  {
   "cell_type": "markdown",
   "metadata": {},
   "source": [
    "    Name: Mingson Leung\n",
    "    Course: COGS 18\n",
    "    Date: February 2022"
   ]
  },
  {
   "cell_type": "markdown",
   "metadata": {},
   "source": [
    "Program:\n",
    "\n",
    "    Simple user interface that provides options to the user.\n",
    "    Program will output a real-time weather report based on the location the user inputs.\n",
    "    Program will take either City/State or ZIP Code.\n",
    "    Weather information provided by API call to OpenWeather."
   ]
  },
  {
   "cell_type": "markdown",
   "metadata": {},
   "source": [
    "Files:\n",
    "\n",
    "    Public:\n",
    "        main.py\n",
    "        weather.py\n",
    "        requirements.txt\n",
    "        README.md\n",
    "        extra_credit.txt\n",
    "    Private:\n",
    "        api_key.py\n",
    "        test.py"
   ]
  },
  {
   "cell_type": "markdown",
   "metadata": {},
   "source": [
    "Limitations:\n",
    "\n",
    "    There is a set limit of API calls per day.\n",
    "    Weather data only supports United States (intentional)\n",
    "\n",
    "Difficulties:\n",
    "\n",
    "    Consistent formatting for user experience\n",
    "    Allowing for either City/State or ZIP Code input\n",
    "    Figuring out how to make an API call and utilize the API response\n",
    "    Debugging API response errors\n",
    "\n",
    "Future Plans:\n",
    "\n",
    "    Performance statistics\n",
    "    Longitude/Latitude location support\n",
    "    Images based on weather description (ASCII Art)\n",
    "    An option to view basic or detailed report\n",
    "    Refactoring code and increasing efficiency"
   ]
  },
  {
   "cell_type": "markdown",
   "metadata": {},
   "source": [
    "Extra Credit:\n",
    "\n",
    "    This class was my first experience programming in Python. However, since I've taken a few CSE class previously, the learning process was much easier.\n",
    "\n",
    "    My original focus was to make a Python project that the user could interact with. At the same time, I decided to solve on a problem I personally had: weather data from apps and websites can sometimes be overwhelming due to the excess information and bloated data. To resolve this issue, I focused my project around displaying weather data that would be easily digestible and functional for the average end user.\n",
    "\n",
    "    I searched for free weather API services and found OpenWeather. The API documentation, while plentiful, was complicated. Especially since this was my first time working with API calls, my workaround was simply trial and error. After many failed API calls, due to incorrect formatting, poor issues, bad indexing, etc., I finally got a working function that handled ZIP codes. Then I realized that some people may not know their ZIP codes, such as travelers, tourists, or children. I repeated the entire process for ZIP codes to process a city and state input. After pushing through the difficulties, I have this working prototype."
   ]
  }
 ],
 "metadata": {
  "interpreter": {
   "hash": "66837c4c4959938fdcfbe2ad770900800caee081bdc30fb91baeb7e46d4790ec"
  },
  "kernelspec": {
   "display_name": "Python 3.9.10 64-bit (windows store)",
   "language": "python",
   "name": "python3"
  },
  "language_info": {
   "codemirror_mode": {
    "name": "ipython",
    "version": 3
   },
   "file_extension": ".py",
   "mimetype": "text/x-python",
   "name": "python",
   "nbconvert_exporter": "python",
   "pygments_lexer": "ipython3",
   "version": "3.9.10"
  },
  "orig_nbformat": 4
 },
 "nbformat": 4,
 "nbformat_minor": 2
}
